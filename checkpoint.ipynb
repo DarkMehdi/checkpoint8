{
 "cells": [
  {
   "cell_type": "code",
   "execution_count": 4,
   "metadata": {},
   "outputs": [
    {
     "name": "stdout",
     "output_type": "stream",
     "text": [
      "this is 1\n",
      "this is 2\n",
      "this is 3\n",
      "this is 4\n",
      "this is 5\n",
      "\n",
      "['this is 1\\n', 'this is 2\\n', 'this is 3\\n']\n",
      "['this is 2\\n', 'this is 3\\n', 'this is 4\\n', 'this is 5']\n",
      "11\n"
     ]
    }
   ],
   "source": [
    "f = open(\"file.txt\",'r',encoding = 'utf-8')\n",
    "\n",
    "def read_all():\n",
    "    f.seek(0)\n",
    "    r= f.read()\n",
    "    return r\n",
    "\n",
    "def read_first_lines():\n",
    "    f.seek(0)\n",
    "    l=f.readlines()[:3]\n",
    "    return l\n",
    "\n",
    "def read_last_lines():\n",
    "    f.seek(0)\n",
    "    line=f.readlines()[-4:]\n",
    "    return line\n",
    "\n",
    "def number_of_words():\n",
    "    f.seek(0)\n",
    "    words=f.read()\n",
    "    separated_words=words.split(' ')\n",
    "    return len(separated_words)\n",
    "\n",
    "print(f\"{read_all()}\\n\")\n",
    "\n",
    "print(read_first_lines())\n",
    "\n",
    "print(read_last_lines())\n",
    "print(number_of_words())\n",
    "\n",
    "f.close()\n",
    "\n"
   ]
  }
 ],
 "metadata": {
  "language_info": {
   "name": "python"
  },
  "orig_nbformat": 4
 },
 "nbformat": 4,
 "nbformat_minor": 2
}
