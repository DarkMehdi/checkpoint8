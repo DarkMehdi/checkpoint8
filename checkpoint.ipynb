{
 "cells": [
  {
   "cell_type": "code",
   "execution_count": 3,
   "metadata": {},
   "outputs": [
    {
     "name": "stdout",
     "output_type": "stream",
     "text": [
      "our text contains: \n",
      "this is 1\n",
      "this is 2\n",
      "this is 3\n",
      "this is 4\n",
      "this is 5\n",
      "\n",
      "The first 4 lines are:\n",
      "['this is 1\\n', 'this is 2\\n', 'this is 3\\n', 'this is 4\\n']\n",
      "The last 4 lines are:\n",
      "['this is 2\\n', 'this is 3\\n', 'this is 4\\n', 'this is 5']\n",
      "Number of words is: 15\n"
     ]
    }
   ],
   "source": [
    "import re\n",
    "f = open(\"file.txt\",'r',encoding = 'utf-8')\n",
    "\n",
    "def read_all():\n",
    "    f.seek(0)\n",
    "    r= f.read()\n",
    "    return r\n",
    "\n",
    "def read_first_lines(n):\n",
    "    f.seek(0)\n",
    "    l=f.readlines()[:n]\n",
    "    return l\n",
    "\n",
    "def read_last_lines(n):\n",
    "    f.seek(0)\n",
    "    line=f.readlines()[-n:]\n",
    "    return line\n",
    "\n",
    "def number_of_words():\n",
    "    f.seek(0)\n",
    "    words=f.read()\n",
    "    separated_words=re.split(' |\\n',words)\n",
    "    return len(separated_words)\n",
    "\n",
    "print(f\"our text contains: \\n{read_all()}\\n\")\n",
    "\n",
    "print(f\"The first 4 lines are:\\n{read_first_lines(4)}\")\n",
    "\n",
    "print(f\"The last 4 lines are:\\n{read_last_lines(4)}\")\n",
    "print(f\"Number of words is: {number_of_words()}\")\n",
    "\n",
    "f.close()\n",
    "\n"
   ]
  }
 ],
 "metadata": {
  "kernelspec": {
   "display_name": "Python 3.10.6 64-bit (windows store)",
   "language": "python",
   "name": "python3"
  },
  "language_info": {
   "codemirror_mode": {
    "name": "ipython",
    "version": 3
   },
   "file_extension": ".py",
   "mimetype": "text/x-python",
   "name": "python",
   "nbconvert_exporter": "python",
   "pygments_lexer": "ipython3",
   "version": "3.10.6"
  },
  "orig_nbformat": 4,
  "vscode": {
   "interpreter": {
    "hash": "b2c647202fd92a8243df08cbefe5e2fc491585904a9553be3beec1ce7c610a24"
   }
  }
 },
 "nbformat": 4,
 "nbformat_minor": 2
}
